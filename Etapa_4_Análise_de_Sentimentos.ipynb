{
  "cells": [
    {
      "cell_type": "markdown",
      "metadata": {},
      "source": [
        "# Etapa_4 - Análise de Sentimentos"
      ]
    },
    {
      "cell_type": "code",
      "execution_count": null,
      "metadata": {
        "colab": {
          "base_uri": "https://localhost:8080/"
        },
        "id": "zWW_GiwTWGH5",
        "outputId": "e2e49378-4e74-4112-ad76-ae6e42367b38"
      },
      "outputs": [],
      "source": [
        "pip install vaderSentiment"
      ]
    },
    {
      "cell_type": "code",
      "execution_count": null,
      "metadata": {
        "id": "JaKmSg7mYgpA"
      },
      "outputs": [],
      "source": [
        "import pandas as pd\n",
        "import re \n",
        "import matplotlib.pyplot as plt\n",
        "import seaborn as sns\n",
        "\n",
        "# Processamento de Linguagem Natural\n",
        "import nltk\n",
        "\n",
        "from nltk.sentiment.vader import SentimentIntensityAnalyzer as SIA\n",
        "from vaderSentiment.vaderSentiment import SentimentIntensityAnalyzer"
      ]
    },
    {
      "cell_type": "code",
      "execution_count": null,
      "metadata": {
        "colab": {
          "base_uri": "https://localhost:8080/",
          "height": 325
        },
        "id": "wTZKZIZiWnCa",
        "outputId": "efad9536-388b-4260-daa9-b476ca211c8c"
      },
      "outputs": [],
      "source": [
        "dataframe_sentimento = pd.read_csv('dataframe_final_candidatos_pronto_para_sentimento.csv')"
      ]
    },
    {
      "cell_type": "code",
      "execution_count": null,
      "metadata": {
        "id": "_PgNVmI-W0xu"
      },
      "outputs": [],
      "source": [
        "dataframe_sentimento.head()"
      ]
    },
    {
      "cell_type": "code",
      "execution_count": null,
      "metadata": {
        "id": "JkIIWQnbW6e9"
      },
      "outputs": [],
      "source": [
        "# Variável que irá trazer todas as funções para análise do sentimento\n",
        "analisadores_de_texto = SentimentIntensityAnalyzer()"
      ]
    },
    {
      "cell_type": "code",
      "execution_count": null,
      "metadata": {
        "id": "h0Z01UZsY_gs"
      },
      "outputs": [],
      "source": [
        "#Criar um coluna 'Sentimento' que irá receber as análise da variável 'analisadores_de_texto' e retornar um valor dentre negativo/neutro/positivo\n",
        "from re import findall\n",
        "dataframe_sentimento['Sentimento'] = dataframe_sentimento['Tweet_limpo'].apply(lambda i: analisadores_de_texto.polarity_scores(' '.join(re.findall(r'\\w+', i.lower()))))"
      ]
    },
    {
      "cell_type": "code",
      "execution_count": null,
      "metadata": {
        "id": "p8xyrb4oaYfy"
      },
      "outputs": [],
      "source": [
        "dataframe_sentimento['Sentimento']"
      ]
    },
    {
      "cell_type": "code",
      "execution_count": null,
      "metadata": {
        "id": "VlJ98uMTavRu"
      },
      "outputs": [],
      "source": [
        "dataframe_sentimento['Positivo'] = dataframe_sentimento['Sentimento'].apply(lambda i:i['pos'])\n",
        "dataframe_sentimento['Negativo'] = dataframe_sentimento['Sentimento'].apply(lambda i:i['neg'])\n",
        "dataframe_sentimento['Neutro'] = dataframe_sentimento['Sentimento'].apply(lambda i:i['neu'])\n",
        "dataframe_sentimento['Composicao'] = dataframe_sentimento['Sentimento'].apply(lambda i:i['compound'])"
      ]
    },
    {
      "cell_type": "code",
      "execution_count": null,
      "metadata": {},
      "outputs": [],
      "source": [
        "dataframe_sentimento.head()"
      ]
    },
    {
      "cell_type": "code",
      "execution_count": null,
      "metadata": {},
      "outputs": [],
      "source": [
        "#Lista para armazenar o laço de repetição\n",
        "sentimento = []"
      ]
    },
    {
      "cell_type": "code",
      "execution_count": null,
      "metadata": {},
      "outputs": [],
      "source": [
        "#Criar um laço de repetição que irá retornar um texto, baseado na análise dos valores contidos na coluna 'Compound'.\n",
        "for i in dataframe_sentimento['Composicao']:\n",
        "    if i >= 0.05:\n",
        "        sentimento.append('Positivo')\n",
        "    elif i <= (-0.05):\n",
        "        sentimento.append('Negativo')\n",
        "    else:\n",
        "        sentimento.append('Neutro')\n",
        "        "
      ]
    },
    {
      "cell_type": "code",
      "execution_count": null,
      "metadata": {},
      "outputs": [],
      "source": [
        "# Adicionar uma coluna 'Sentimento_Final' com o resultado do laço de repetição armazenado na lista 'Sentimento'.\n",
        "dataframe_sentimento['Sentimento_Final'] = sentimento"
      ]
    },
    {
      "cell_type": "code",
      "execution_count": null,
      "metadata": {},
      "outputs": [],
      "source": [
        "# Visualizar qtde de sentimentos\n",
        "plt.figure(figsize=(20,5)) \n",
        "sns.countplot(y=\"Sentimento_Final\", data= dataframe_sentimento)"
      ]
    },
    {
      "cell_type": "code",
      "execution_count": null,
      "metadata": {},
      "outputs": [],
      "source": [
        "# Variável para visualizar somente dados do Lula\n",
        "resultado_filtro_lula = dataframe_sentimento[['Candidato'] == \"Lula\"]"
      ]
    },
    {
      "cell_type": "code",
      "execution_count": null,
      "metadata": {},
      "outputs": [],
      "source": [
        "# Montar um dataframe apenas com as colunas importantes\n",
        "dataframe_final[(\"Data_Hora\", \"idTweeter\", \"Tweet\", \"Candidato\", \"Tweet_limpo\", \"Sentimento_Final\")]"
      ]
    },
    {
      "cell_type": "code",
      "execution_count": null,
      "metadata": {},
      "outputs": [],
      "source": [
        "dataframe_final.to.csv('dataframe_final.csv', sep=',', index=False)"
      ]
    }
  ],
  "metadata": {
    "colab": {
      "name": "Etapa_4 - Análise de Sentimentos.ipynb",
      "provenance": []
    },
    "kernelspec": {
      "display_name": "Python 3.10.6 64-bit",
      "language": "python",
      "name": "python3"
    },
    "language_info": {
      "codemirror_mode": {
        "name": "ipython",
        "version": 3
      },
      "file_extension": ".py",
      "mimetype": "text/x-python",
      "name": "python",
      "nbconvert_exporter": "python",
      "pygments_lexer": "ipython3",
      "version": "3.10.6"
    },
    "vscode": {
      "interpreter": {
        "hash": "cb22fb018e93743410b98ec0d87bb900a9cf59fa6b50fb2882b046231921d04b"
      }
    }
  },
  "nbformat": 4,
  "nbformat_minor": 0
}
